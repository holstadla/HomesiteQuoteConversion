{
  "nbformat": 4,
  "nbformat_minor": 0,
  "metadata": {
    "colab": {
      "name": "KNN ONLY.ipynb",
      "provenance": [],
      "collapsed_sections": []
    },
    "kernelspec": {
      "name": "python3",
      "display_name": "Python 3"
    }
  },
  "cells": [
    {
      "cell_type": "code",
      "metadata": {
        "id": "QcwQ5hdHdllC",
        "outputId": "6117ce09-7e07-4cc6-c3a3-8575ad654460",
        "colab": {
          "base_uri": "https://localhost:8080/"
        }
      },
      "source": [
        "!pip install vecstack"
      ],
      "execution_count": null,
      "outputs": [
        {
          "output_type": "stream",
          "text": [
            "Requirement already satisfied: vecstack in /usr/local/lib/python3.6/dist-packages (0.4.0)\n",
            "Requirement already satisfied: scipy in /usr/local/lib/python3.6/dist-packages (from vecstack) (1.4.1)\n",
            "Requirement already satisfied: scikit-learn>=0.18 in /usr/local/lib/python3.6/dist-packages (from vecstack) (0.22.2.post1)\n",
            "Requirement already satisfied: numpy in /usr/local/lib/python3.6/dist-packages (from vecstack) (1.18.5)\n",
            "Requirement already satisfied: joblib>=0.11 in /usr/local/lib/python3.6/dist-packages (from scikit-learn>=0.18->vecstack) (0.16.0)\n"
          ],
          "name": "stdout"
        }
      ]
    },
    {
      "cell_type": "code",
      "metadata": {
        "id": "eQqGDszCfMbu"
      },
      "source": [
        "from vecstack import stacking\n",
        "import pandas as pd\n",
        "import numpy as np\n",
        "from sklearn.metrics import accuracy_score #works\n",
        "from sklearn.model_selection import train_test_split\n",
        "from sklearn.ensemble import RandomForestClassifier\n",
        "from sklearn.neural_network import MLPClassifier\n",
        "from sklearn.neighbors import KNeighborsClassifier\n",
        "from sklearn import svm\n",
        "from sklearn.tree import DecisionTreeClassifier\n",
        "from sklearn.model_selection import GridSearchCV\n",
        "from sklearn.model_selection import RandomizedSearchCV\n",
        "from sklearn.model_selection import cross_val_score\n",
        "from sklearn.metrics import classification_report, confusion_matrix\n",
        "from sklearn.ensemble import GradientBoostingClassifier\n",
        "from sklearn.neural_network import MLPClassifier\n",
        "from sklearn.neighbors import KNeighborsClassifier\n",
        "from imblearn.over_sampling import SMOTE \n",
        "from sklearn.svm import SVC\n",
        "from collections import Counter #for Smote, \n",
        "\n",
        "import warnings\n",
        "warnings.filterwarnings(\"ignore\")"
      ],
      "execution_count": null,
      "outputs": []
    },
    {
      "cell_type": "code",
      "metadata": {
        "id": "1vyZX66TfUTt",
        "outputId": "285e91fd-0167-41cb-e9d1-b9eeabb69a88",
        "colab": {
          "base_uri": "https://localhost:8080/"
        }
      },
      "source": [
        "# To upload our datasets from our working directory we need to mount our drive contents to the colab environment. \n",
        "# For the code to do so you can search “mount” in code snippets or use the code given below. \n",
        "# Our entire drive contents are now mounted on colab at the location “/gdrive”.\n",
        "\n",
        "from google.colab import drive\n",
        "drive.mount('/gdrive')\n",
        "#Change current working directory to gdrive\n",
        "%cd /gdrive\n",
        "\n",
        "\n",
        "trainfile = r'/gdrive/My Drive/Data Mining/Assignment 3/RevisedHomesiteTrain.csv'\n",
        "train_data = pd.read_csv(trainfile)\n",
        "\n",
        "testfile = r'/gdrive/My Drive/Data Mining/Assignment 3/RevisedHomesiteTest.csv'\n",
        "test_data = pd.read_csv(testfile)\n",
        "\n",
        "print(train_data.shape)\n",
        "print(train_data.head()) \n",
        "\n",
        "print(test_data.shape)\n",
        "print(test_data.head()) "
      ],
      "execution_count": null,
      "outputs": [
        {
          "output_type": "stream",
          "text": [
            "Drive already mounted at /gdrive; to attempt to forcibly remount, call drive.mount(\"/gdrive\", force_remount=True).\n",
            "/gdrive\n",
            "(65000, 596)\n",
            "   CoverageField11A  ...  QuoteConversion_Flag\n",
            "0                 2  ...                     0\n",
            "1                 5  ...                     0\n",
            "2                 4  ...                     0\n",
            "3                15  ...                     0\n",
            "4                 4  ...                     0\n",
            "\n",
            "[5 rows x 596 columns]\n",
            "(173836, 596)\n",
            "   CoverageField11A  CoverageField11B  ...  GeographicField64_TX  GeographicField64\n",
            "0                13                22  ...                     0                 IL\n",
            "1                 4                 5  ...                     0                 NJ\n",
            "2                 3                 3  ...                     0                 NJ\n",
            "3                 5                 9  ...                     0                 TX\n",
            "4                12                21  ...                     0                 CA\n",
            "\n",
            "[5 rows x 596 columns]\n"
          ],
          "name": "stdout"
        }
      ]
    },
    {
      "cell_type": "code",
      "metadata": {
        "id": "NKg2D7EQ-sNE",
        "outputId": "ef3f94d3-624e-4f56-d0be-cb0f5d99cda5",
        "colab": {
          "base_uri": "https://localhost:8080/"
        }
      },
      "source": [
        "TrainCols = list(train_data.columns.values)\n",
        "TestCols = list(test_data.columns.values)\n",
        "print(TrainCols)\n",
        "print(TestCols)"
      ],
      "execution_count": null,
      "outputs": [
        {
          "output_type": "stream",
          "text": [
            "['CoverageField11A', 'CoverageField11B', 'CoverageField1A', 'CoverageField1B', 'CoverageField2A', 'CoverageField2B', 'CoverageField3A', 'CoverageField3B', 'CoverageField4A', 'CoverageField4B', 'CoverageField5A', 'CoverageField5B', 'CoverageField6A', 'CoverageField6B', 'Field10', 'Field11', 'Field7', 'Field8', 'Field9', 'GeographicField10A', 'GeographicField10B', 'GeographicField11A', 'GeographicField11B', 'GeographicField12A', 'GeographicField12B', 'GeographicField13A', 'GeographicField13B', 'GeographicField14A', 'GeographicField14B', 'GeographicField15A', 'GeographicField15B', 'GeographicField16A', 'GeographicField16B', 'GeographicField17A', 'GeographicField17B', 'GeographicField18A', 'GeographicField18B', 'GeographicField19A', 'GeographicField19B', 'GeographicField1A', 'GeographicField1B', 'GeographicField20A', 'GeographicField20B', 'GeographicField21A', 'GeographicField21B', 'GeographicField22A', 'GeographicField22B', 'GeographicField23A', 'GeographicField23B', 'GeographicField24A', 'GeographicField24B', 'GeographicField25A', 'GeographicField25B', 'GeographicField26A', 'GeographicField26B', 'GeographicField27A', 'GeographicField27B', 'GeographicField28A', 'GeographicField28B', 'GeographicField29A', 'GeographicField29B', 'GeographicField2A', 'GeographicField2B', 'GeographicField30A', 'GeographicField30B', 'GeographicField31A', 'GeographicField31B', 'GeographicField32A', 'GeographicField32B', 'GeographicField33A', 'GeographicField33B', 'GeographicField34A', 'GeographicField34B', 'GeographicField35A', 'GeographicField35B', 'GeographicField36A', 'GeographicField36B', 'GeographicField37A', 'GeographicField37B', 'GeographicField38A', 'GeographicField38B', 'GeographicField39A', 'GeographicField39B', 'GeographicField3A', 'GeographicField3B', 'GeographicField40A', 'GeographicField40B', 'GeographicField41A', 'GeographicField41B', 'GeographicField42A', 'GeographicField42B', 'GeographicField43A', 'GeographicField43B', 'GeographicField44A', 'GeographicField44B', 'GeographicField45A', 'GeographicField45B', 'GeographicField46A', 'GeographicField46B', 'GeographicField47A', 'GeographicField47B', 'GeographicField48A', 'GeographicField48B', 'GeographicField49A', 'GeographicField49B', 'GeographicField4A', 'GeographicField4B', 'GeographicField50A', 'GeographicField50B', 'GeographicField51A', 'GeographicField51B', 'GeographicField52A', 'GeographicField52B', 'GeographicField53A', 'GeographicField53B', 'GeographicField54A', 'GeographicField54B', 'GeographicField55A', 'GeographicField55B', 'GeographicField56A', 'GeographicField56B', 'GeographicField57A', 'GeographicField57B', 'GeographicField58A', 'GeographicField58B', 'GeographicField59A', 'GeographicField59B', 'GeographicField5A', 'GeographicField5B', 'GeographicField60A', 'GeographicField60B', 'GeographicField61A', 'GeographicField61B', 'GeographicField62A', 'GeographicField62B', 'GeographicField6A', 'GeographicField6B', 'GeographicField7A', 'GeographicField7B', 'GeographicField8A', 'GeographicField8B', 'GeographicField9A', 'GeographicField9B', 'PersonalField1', 'PersonalField10A', 'PersonalField10B', 'PersonalField11', 'PersonalField12', 'PersonalField13', 'PersonalField14', 'PersonalField15', 'PersonalField2', 'PersonalField22', 'PersonalField23', 'PersonalField24', 'PersonalField25', 'PersonalField26', 'PersonalField27', 'PersonalField28', 'PersonalField29', 'PersonalField30', 'PersonalField31', 'PersonalField32', 'PersonalField33', 'PersonalField34', 'PersonalField35', 'PersonalField36', 'PersonalField37', 'PersonalField38', 'PersonalField39', 'PersonalField40', 'PersonalField41', 'PersonalField42', 'PersonalField43', 'PersonalField44', 'PersonalField45', 'PersonalField46', 'PersonalField47', 'PersonalField48', 'PersonalField49', 'PersonalField4A', 'PersonalField4B', 'PersonalField5', 'PersonalField50', 'PersonalField51', 'PersonalField52', 'PersonalField53', 'PersonalField54', 'PersonalField55', 'PersonalField56', 'PersonalField57', 'PersonalField58', 'PersonalField59', 'PersonalField6', 'PersonalField60', 'PersonalField61', 'PersonalField62', 'PersonalField63', 'PersonalField64', 'PersonalField65', 'PersonalField66', 'PersonalField67', 'PersonalField68', 'PersonalField69', 'PersonalField70', 'PersonalField71', 'PersonalField72', 'PersonalField73', 'PersonalField74', 'PersonalField75', 'PersonalField76', 'PersonalField77', 'PersonalField78', 'PersonalField79', 'PersonalField8', 'PersonalField80', 'PersonalField81', 'PersonalField82', 'PersonalField83', 'PersonalField9', 'PropertyField10', 'PropertyField11A', 'PropertyField11B', 'PropertyField12', 'PropertyField13', 'PropertyField15', 'PropertyField16A', 'PropertyField16B', 'PropertyField17', 'PropertyField18', 'PropertyField19', 'PropertyField1A', 'PropertyField1B', 'PropertyField20', 'PropertyField21A', 'PropertyField21B', 'PropertyField22', 'PropertyField23', 'PropertyField24A', 'PropertyField24B', 'PropertyField25', 'PropertyField26A', 'PropertyField26B', 'PropertyField27', 'PropertyField2A', 'PropertyField2B', 'PropertyField35', 'PropertyField39A', 'PropertyField39B', 'PropertyField6', 'PropertyField8', 'PropertyField9', 'QuoteNumber', 'SalesField10', 'SalesField11', 'SalesField12', 'SalesField13', 'SalesField14', 'SalesField15', 'SalesField1A', 'SalesField1B', 'SalesField2A', 'SalesField2B', 'SalesField3', 'SalesField4', 'SalesField5', 'SalesField6', 'SalesField8', 'SalesField9', 'Field6_A', 'Field6_B', 'Field6_C', 'Field6_D', 'Field6_E', 'Field6_F', 'Field6_J', 'Field6_K', 'Field12_N', 'Field12_Y', 'CoverageField8_T', 'CoverageField8_U', 'CoverageField8_V', 'CoverageField8_W', 'CoverageField8_X', 'CoverageField8_Y', 'CoverageField8_Z', 'CoverageField9_A', 'CoverageField9_B', 'CoverageField9_C', 'CoverageField9_D', 'CoverageField9_E', 'CoverageField9_F', 'CoverageField9_G', 'CoverageField9_H', 'CoverageField9_I', 'CoverageField9_J', 'CoverageField9_K', 'CoverageField9_L', 'SalesField7_K', 'SalesField7_M', 'SalesField7_P', 'SalesField7_Q', 'SalesField7_R', 'SalesField7_T', 'SalesField7_V', 'PersonalField7_N', 'PersonalField7_Y', 'PersonalField16_XB', 'PersonalField16_XC', 'PersonalField16_XD', 'PersonalField16_XE', 'PersonalField16_XF', 'PersonalField16_XG', 'PersonalField16_XH', 'PersonalField16_XI', 'PersonalField16_XJ', 'PersonalField16_XK', 'PersonalField16_XL', 'PersonalField16_XM', 'PersonalField16_XO', 'PersonalField16_XP', 'PersonalField16_XQ', 'PersonalField16_XR', 'PersonalField16_XS', 'PersonalField16_XT', 'PersonalField16_XV', 'PersonalField16_XW', 'PersonalField16_XX', 'PersonalField16_XY', 'PersonalField16_XZ', 'PersonalField16_YE', 'PersonalField16_YF', 'PersonalField16_YG', 'PersonalField16_YH', 'PersonalField16_YI', 'PersonalField16_ZA', 'PersonalField16_ZB', 'PersonalField16_ZC', 'PersonalField16_ZD', 'PersonalField16_ZE', 'PersonalField16_ZF', 'PersonalField16_ZG', 'PersonalField16_ZH', 'PersonalField16_ZI', 'PersonalField16_ZJ', 'PersonalField16_ZK', 'PersonalField16_ZM', 'PersonalField16_ZN', 'PersonalField16_ZO', 'PersonalField16_ZP', 'PersonalField16_ZR', 'PersonalField16_ZS', 'PersonalField16_ZT', 'PersonalField16_ZU', 'PersonalField16_ZW', 'PersonalField17_XB', 'PersonalField17_XC', 'PersonalField17_XD', 'PersonalField17_XE', 'PersonalField17_XF', 'PersonalField17_XG', 'PersonalField17_XH', 'PersonalField17_XI', 'PersonalField17_XK', 'PersonalField17_XL', 'PersonalField17_XM', 'PersonalField17_XN', 'PersonalField17_XQ', 'PersonalField17_XR', 'PersonalField17_XS', 'PersonalField17_XT', 'PersonalField17_XU', 'PersonalField17_XV', 'PersonalField17_XW', 'PersonalField17_XX', 'PersonalField17_XZ', 'PersonalField17_YE', 'PersonalField17_YF', 'PersonalField17_YG', 'PersonalField17_YH', 'PersonalField17_YI', 'PersonalField17_YJ', 'PersonalField17_YK', 'PersonalField17_YL', 'PersonalField17_YM', 'PersonalField17_YN', 'PersonalField17_YO', 'PersonalField17_YP', 'PersonalField17_YQ', 'PersonalField17_YR', 'PersonalField17_YS', 'PersonalField17_YT', 'PersonalField17_YU', 'PersonalField17_YV', 'PersonalField17_YW', 'PersonalField17_YX', 'PersonalField17_YY', 'PersonalField17_YZ', 'PersonalField17_ZA', 'PersonalField17_ZB', 'PersonalField17_ZC', 'PersonalField17_ZD', 'PersonalField17_ZE', 'PersonalField17_ZF', 'PersonalField17_ZG', 'PersonalField17_ZH', 'PersonalField17_ZI', 'PersonalField17_ZJ', 'PersonalField17_ZK', 'PersonalField17_ZL', 'PersonalField17_ZM', 'PersonalField17_ZN', 'PersonalField17_ZO', 'PersonalField17_ZP', 'PersonalField17_ZQ', 'PersonalField17_ZS', 'PersonalField17_ZT', 'PersonalField17_ZU', 'PersonalField17_ZV', 'PersonalField17_ZW', 'PersonalField18_XB', 'PersonalField18_XC', 'PersonalField18_XD', 'PersonalField18_XE', 'PersonalField18_XF', 'PersonalField18_XG', 'PersonalField18_XI', 'PersonalField18_XJ', 'PersonalField18_XK', 'PersonalField18_XL', 'PersonalField18_XM', 'PersonalField18_XN', 'PersonalField18_XO', 'PersonalField18_XP', 'PersonalField18_XQ', 'PersonalField18_XR', 'PersonalField18_XS', 'PersonalField18_XT', 'PersonalField18_XU', 'PersonalField18_XW', 'PersonalField18_XX', 'PersonalField18_XY', 'PersonalField18_XZ', 'PersonalField18_YE', 'PersonalField18_YF', 'PersonalField18_YG', 'PersonalField18_YH', 'PersonalField18_YI', 'PersonalField18_YJ', 'PersonalField18_YK', 'PersonalField18_YL', 'PersonalField18_YM', 'PersonalField18_YN', 'PersonalField18_YO', 'PersonalField18_YP', 'PersonalField18_YQ', 'PersonalField18_YR', 'PersonalField18_ZA', 'PersonalField18_ZB', 'PersonalField18_ZC', 'PersonalField18_ZD', 'PersonalField18_ZE', 'PersonalField18_ZF', 'PersonalField18_ZH', 'PersonalField18_ZJ', 'PersonalField18_ZK', 'PersonalField18_ZL', 'PersonalField18_ZM', 'PersonalField18_ZN', 'PersonalField18_ZO', 'PersonalField18_ZP', 'PersonalField18_ZQ', 'PersonalField18_ZR', 'PersonalField18_ZS', 'PersonalField18_ZT', 'PersonalField18_ZU', 'PersonalField18_ZV', 'PersonalField18_ZW', 'PersonalField19_XB', 'PersonalField19_XC', 'PersonalField19_XD', 'PersonalField19_XE', 'PersonalField19_XF', 'PersonalField19_XG', 'PersonalField19_XH', 'PersonalField19_XI', 'PersonalField19_XJ', 'PersonalField19_XK', 'PersonalField19_XM', 'PersonalField19_XN', 'PersonalField19_XO', 'PersonalField19_XP', 'PersonalField19_XQ', 'PersonalField19_XR', 'PersonalField19_XS', 'PersonalField19_XT', 'PersonalField19_XU', 'PersonalField19_XV', 'PersonalField19_XW', 'PersonalField19_XX', 'PersonalField19_XY', 'PersonalField19_XZ', 'PersonalField19_YE', 'PersonalField19_YF', 'PersonalField19_YG', 'PersonalField19_YH', 'PersonalField19_YJ', 'PersonalField19_YK', 'PersonalField19_YL', 'PersonalField19_YM', 'PersonalField19_YN', 'PersonalField19_ZA', 'PersonalField19_ZB', 'PersonalField19_ZD', 'PersonalField19_ZE', 'PersonalField19_ZF', 'PersonalField19_ZG', 'PersonalField19_ZH', 'PersonalField19_ZI', 'PersonalField19_ZJ', 'PersonalField19_ZK', 'PersonalField19_ZL', 'PersonalField19_ZM', 'PersonalField19_ZN', 'PersonalField19_ZO', 'PersonalField19_ZP', 'PersonalField19_ZQ', 'PersonalField19_ZR', 'PersonalField19_ZS', 'PersonalField19_ZT', 'PersonalField19_ZU', 'PersonalField19_ZV', 'PersonalField19_ZW', 'PropertyField3_N', 'PropertyField3_Y', 'PropertyField4_N', 'PropertyField4_Y', 'PropertyField5_N', 'PropertyField5_Y', 'PropertyField7_A', 'PropertyField7_B', 'PropertyField7_C', 'PropertyField7_D', 'PropertyField7_E', 'PropertyField7_F', 'PropertyField7_G', 'PropertyField7_H', 'PropertyField7_I', 'PropertyField7_J', 'PropertyField7_K', 'PropertyField7_L', 'PropertyField7_M', 'PropertyField7_N', 'PropertyField7_O', 'PropertyField7_P', 'PropertyField7_Q', 'PropertyField7_R', 'PropertyField7_S', 'PropertyField7_T', 'PropertyField14_A', 'PropertyField14_B', 'PropertyField14_C', 'PropertyField14_D', 'PropertyField28_A', 'PropertyField28_B', 'PropertyField28_C', 'PropertyField28_D', 'PropertyField30_N', 'PropertyField30_Y', 'PropertyField31_K', 'PropertyField31_M', 'PropertyField31_N', 'PropertyField31_O', 'PropertyField32_N', 'PropertyField32_Y', 'PropertyField33_E', 'PropertyField33_F', 'PropertyField33_G', 'PropertyField33_H', 'PropertyField34_N', 'PropertyField34_Y', 'PropertyField36_N', 'PropertyField36_Y', 'PropertyField37_ ', 'PropertyField37_N', 'PropertyField37_Y', 'PropertyField38_N', 'PropertyField38_Y', 'GeographicField63_ ', 'GeographicField63_N', 'GeographicField63_Y', 'GeographicField64_CA', 'GeographicField64_IL', 'GeographicField64_NJ', 'GeographicField64_TX', 'QuoteConversion_Flag']\n",
            "['CoverageField11A', 'CoverageField11B', 'CoverageField1A', 'CoverageField1B', 'CoverageField2A', 'CoverageField2B', 'CoverageField3A', 'CoverageField3B', 'CoverageField4A', 'CoverageField4B', 'CoverageField5A', 'CoverageField5B', 'CoverageField6A', 'CoverageField6B', 'Field10', 'Field11', 'Field7', 'Field8', 'Field9', 'GeographicField10A', 'GeographicField10B', 'GeographicField11A', 'GeographicField11B', 'GeographicField12A', 'GeographicField12B', 'GeographicField13A', 'GeographicField13B', 'GeographicField14A', 'GeographicField14B', 'GeographicField15A', 'GeographicField15B', 'GeographicField16A', 'GeographicField16B', 'GeographicField17A', 'GeographicField17B', 'GeographicField18A', 'GeographicField18B', 'GeographicField19A', 'GeographicField19B', 'GeographicField1A', 'GeographicField1B', 'GeographicField20A', 'GeographicField20B', 'GeographicField21A', 'GeographicField21B', 'GeographicField22A', 'GeographicField22B', 'GeographicField23A', 'GeographicField23B', 'GeographicField24A', 'GeographicField24B', 'GeographicField25A', 'GeographicField25B', 'GeographicField26A', 'GeographicField26B', 'GeographicField27A', 'GeographicField27B', 'GeographicField28A', 'GeographicField28B', 'GeographicField29A', 'GeographicField29B', 'GeographicField2A', 'GeographicField2B', 'GeographicField30A', 'GeographicField30B', 'GeographicField31A', 'GeographicField31B', 'GeographicField32A', 'GeographicField32B', 'GeographicField33A', 'GeographicField33B', 'GeographicField34A', 'GeographicField34B', 'GeographicField35A', 'GeographicField35B', 'GeographicField36A', 'GeographicField36B', 'GeographicField37A', 'GeographicField37B', 'GeographicField38A', 'GeographicField38B', 'GeographicField39A', 'GeographicField39B', 'GeographicField3A', 'GeographicField3B', 'GeographicField40A', 'GeographicField40B', 'GeographicField41A', 'GeographicField41B', 'GeographicField42A', 'GeographicField42B', 'GeographicField43A', 'GeographicField43B', 'GeographicField44A', 'GeographicField44B', 'GeographicField45A', 'GeographicField45B', 'GeographicField46A', 'GeographicField46B', 'GeographicField47A', 'GeographicField47B', 'GeographicField48A', 'GeographicField48B', 'GeographicField49A', 'GeographicField49B', 'GeographicField4A', 'GeographicField4B', 'GeographicField50A', 'GeographicField50B', 'GeographicField51A', 'GeographicField51B', 'GeographicField52A', 'GeographicField52B', 'GeographicField53A', 'GeographicField53B', 'GeographicField54A', 'GeographicField54B', 'GeographicField55A', 'GeographicField55B', 'GeographicField56A', 'GeographicField56B', 'GeographicField57A', 'GeographicField57B', 'GeographicField58A', 'GeographicField58B', 'GeographicField59A', 'GeographicField59B', 'GeographicField5A', 'GeographicField5B', 'GeographicField60A', 'GeographicField60B', 'GeographicField61A', 'GeographicField61B', 'GeographicField62A', 'GeographicField62B', 'GeographicField6A', 'GeographicField6B', 'GeographicField7A', 'GeographicField7B', 'GeographicField8A', 'GeographicField8B', 'GeographicField9A', 'GeographicField9B', 'PersonalField1', 'PersonalField10A', 'PersonalField10B', 'PersonalField11', 'PersonalField12', 'PersonalField13', 'PersonalField14', 'PersonalField15', 'PersonalField2', 'PersonalField22', 'PersonalField23', 'PersonalField24', 'PersonalField25', 'PersonalField26', 'PersonalField27', 'PersonalField28', 'PersonalField29', 'PersonalField30', 'PersonalField31', 'PersonalField32', 'PersonalField33', 'PersonalField34', 'PersonalField35', 'PersonalField36', 'PersonalField37', 'PersonalField38', 'PersonalField39', 'PersonalField40', 'PersonalField41', 'PersonalField42', 'PersonalField43', 'PersonalField44', 'PersonalField45', 'PersonalField46', 'PersonalField47', 'PersonalField48', 'PersonalField49', 'PersonalField4A', 'PersonalField4B', 'PersonalField5', 'PersonalField50', 'PersonalField51', 'PersonalField52', 'PersonalField53', 'PersonalField54', 'PersonalField55', 'PersonalField56', 'PersonalField57', 'PersonalField58', 'PersonalField59', 'PersonalField6', 'PersonalField60', 'PersonalField61', 'PersonalField62', 'PersonalField63', 'PersonalField64', 'PersonalField65', 'PersonalField66', 'PersonalField67', 'PersonalField68', 'PersonalField69', 'PersonalField70', 'PersonalField71', 'PersonalField72', 'PersonalField73', 'PersonalField74', 'PersonalField75', 'PersonalField76', 'PersonalField77', 'PersonalField78', 'PersonalField79', 'PersonalField8', 'PersonalField80', 'PersonalField81', 'PersonalField82', 'PersonalField83', 'PersonalField9', 'PropertyField10', 'PropertyField11A', 'PropertyField11B', 'PropertyField12', 'PropertyField13', 'PropertyField15', 'PropertyField16A', 'PropertyField16B', 'PropertyField17', 'PropertyField18', 'PropertyField19', 'PropertyField1A', 'PropertyField1B', 'PropertyField20', 'PropertyField21A', 'PropertyField21B', 'PropertyField22', 'PropertyField23', 'PropertyField24A', 'PropertyField24B', 'PropertyField25', 'PropertyField26A', 'PropertyField26B', 'PropertyField27', 'PropertyField2A', 'PropertyField2B', 'PropertyField35', 'PropertyField39A', 'PropertyField39B', 'PropertyField6', 'PropertyField8', 'PropertyField9', 'QuoteNumber', 'SalesField10', 'SalesField11', 'SalesField12', 'SalesField13', 'SalesField14', 'SalesField15', 'SalesField1A', 'SalesField1B', 'SalesField2A', 'SalesField2B', 'SalesField3', 'SalesField4', 'SalesField5', 'SalesField6', 'SalesField8', 'SalesField9', 'Field6_A', 'Field6_B', 'Field6_C', 'Field6_D', 'Field6_E', 'Field6_F', 'Field6_J', 'Field6_K', 'Field12_N', 'Field12_Y', 'CoverageField8_T', 'CoverageField8_U', 'CoverageField8_V', 'CoverageField8_W', 'CoverageField8_X', 'CoverageField8_Y', 'CoverageField8_Z', 'CoverageField9_A', 'CoverageField9_B', 'CoverageField9_C', 'CoverageField9_D', 'CoverageField9_E', 'CoverageField9_F', 'CoverageField9_G', 'CoverageField9_H', 'CoverageField9_I', 'CoverageField9_J', 'CoverageField9_K', 'CoverageField9_L', 'SalesField7_K', 'SalesField7_M', 'SalesField7_P', 'SalesField7_Q', 'SalesField7_R', 'SalesField7_T', 'SalesField7_V', 'PersonalField7_N', 'PersonalField7_Y', 'PersonalField16_XB', 'PersonalField16_XC', 'PersonalField16_XD', 'PersonalField16_XE', 'PersonalField16_XF', 'PersonalField16_XG', 'PersonalField16_XH', 'PersonalField16_XI', 'PersonalField16_XJ', 'PersonalField16_XK', 'PersonalField16_XL', 'PersonalField16_XM', 'PersonalField16_XO', 'PersonalField16_XP', 'PersonalField16_XQ', 'PersonalField16_XR', 'PersonalField16_XS', 'PersonalField16_XT', 'PersonalField16_XV', 'PersonalField16_XW', 'PersonalField16_XX', 'PersonalField16_XY', 'PersonalField16_XZ', 'PersonalField16_YE', 'PersonalField16_YF', 'PersonalField16_YG', 'PersonalField16_YH', 'PersonalField16_YI', 'PersonalField16_ZA', 'PersonalField16_ZB', 'PersonalField16_ZC', 'PersonalField16_ZD', 'PersonalField16_ZE', 'PersonalField16_ZF', 'PersonalField16_ZG', 'PersonalField16_ZH', 'PersonalField16_ZI', 'PersonalField16_ZJ', 'PersonalField16_ZK', 'PersonalField16_ZM', 'PersonalField16_ZN', 'PersonalField16_ZO', 'PersonalField16_ZP', 'PersonalField16_ZR', 'PersonalField16_ZS', 'PersonalField16_ZT', 'PersonalField16_ZU', 'PersonalField16_ZW', 'PersonalField17_XB', 'PersonalField17_XC', 'PersonalField17_XD', 'PersonalField17_XE', 'PersonalField17_XF', 'PersonalField17_XG', 'PersonalField17_XH', 'PersonalField17_XI', 'PersonalField17_XK', 'PersonalField17_XL', 'PersonalField17_XM', 'PersonalField17_XN', 'PersonalField17_XQ', 'PersonalField17_XR', 'PersonalField17_XS', 'PersonalField17_XT', 'PersonalField17_XU', 'PersonalField17_XV', 'PersonalField17_XW', 'PersonalField17_XX', 'PersonalField17_XZ', 'PersonalField17_YE', 'PersonalField17_YF', 'PersonalField17_YG', 'PersonalField17_YH', 'PersonalField17_YI', 'PersonalField17_YJ', 'PersonalField17_YK', 'PersonalField17_YL', 'PersonalField17_YM', 'PersonalField17_YN', 'PersonalField17_YO', 'PersonalField17_YP', 'PersonalField17_YQ', 'PersonalField17_YR', 'PersonalField17_YS', 'PersonalField17_YT', 'PersonalField17_YU', 'PersonalField17_YV', 'PersonalField17_YW', 'PersonalField17_YX', 'PersonalField17_YY', 'PersonalField17_YZ', 'PersonalField17_ZA', 'PersonalField17_ZB', 'PersonalField17_ZC', 'PersonalField17_ZD', 'PersonalField17_ZE', 'PersonalField17_ZF', 'PersonalField17_ZG', 'PersonalField17_ZH', 'PersonalField17_ZI', 'PersonalField17_ZJ', 'PersonalField17_ZK', 'PersonalField17_ZL', 'PersonalField17_ZM', 'PersonalField17_ZN', 'PersonalField17_ZO', 'PersonalField17_ZP', 'PersonalField17_ZQ', 'PersonalField17_ZS', 'PersonalField17_ZT', 'PersonalField17_ZU', 'PersonalField17_ZV', 'PersonalField17_ZW', 'PersonalField18_XB', 'PersonalField18_XC', 'PersonalField18_XD', 'PersonalField18_XE', 'PersonalField18_XF', 'PersonalField18_XG', 'PersonalField18_XI', 'PersonalField18_XJ', 'PersonalField18_XK', 'PersonalField18_XL', 'PersonalField18_XM', 'PersonalField18_XN', 'PersonalField18_XO', 'PersonalField18_XP', 'PersonalField18_XQ', 'PersonalField18_XR', 'PersonalField18_XS', 'PersonalField18_XT', 'PersonalField18_XU', 'PersonalField18_XW', 'PersonalField18_XX', 'PersonalField18_XY', 'PersonalField18_XZ', 'PersonalField18_YE', 'PersonalField18_YF', 'PersonalField18_YG', 'PersonalField18_YH', 'PersonalField18_YI', 'PersonalField18_YJ', 'PersonalField18_YK', 'PersonalField18_YL', 'PersonalField18_YM', 'PersonalField18_YN', 'PersonalField18_YO', 'PersonalField18_YP', 'PersonalField18_YQ', 'PersonalField18_YR', 'PersonalField18_ZA', 'PersonalField18_ZB', 'PersonalField18_ZC', 'PersonalField18_ZD', 'PersonalField18_ZE', 'PersonalField18_ZF', 'PersonalField18_ZH', 'PersonalField18_ZJ', 'PersonalField18_ZK', 'PersonalField18_ZL', 'PersonalField18_ZM', 'PersonalField18_ZN', 'PersonalField18_ZO', 'PersonalField18_ZP', 'PersonalField18_ZQ', 'PersonalField18_ZR', 'PersonalField18_ZS', 'PersonalField18_ZT', 'PersonalField18_ZU', 'PersonalField18_ZV', 'PersonalField18_ZW', 'PersonalField19_XB', 'PersonalField19_XC', 'PersonalField19_XD', 'PersonalField19_XE', 'PersonalField19_XF', 'PersonalField19_XG', 'PersonalField19_XH', 'PersonalField19_XI', 'PersonalField19_XJ', 'PersonalField19_XK', 'PersonalField19_XM', 'PersonalField19_XN', 'PersonalField19_XO', 'PersonalField19_XP', 'PersonalField19_XQ', 'PersonalField19_XR', 'PersonalField19_XS', 'PersonalField19_XT', 'PersonalField19_XU', 'PersonalField19_XV', 'PersonalField19_XW', 'PersonalField19_XX', 'PersonalField19_XY', 'PersonalField19_XZ', 'PersonalField19_YE', 'PersonalField19_YF', 'PersonalField19_YG', 'PersonalField19_YH', 'PersonalField19_YJ', 'PersonalField19_YK', 'PersonalField19_YL', 'PersonalField19_YM', 'PersonalField19_YN', 'PersonalField19_ZA', 'PersonalField19_ZB', 'PersonalField19_ZD', 'PersonalField19_ZE', 'PersonalField19_ZF', 'PersonalField19_ZG', 'PersonalField19_ZH', 'PersonalField19_ZI', 'PersonalField19_ZJ', 'PersonalField19_ZK', 'PersonalField19_ZL', 'PersonalField19_ZM', 'PersonalField19_ZN', 'PersonalField19_ZO', 'PersonalField19_ZP', 'PersonalField19_ZQ', 'PersonalField19_ZR', 'PersonalField19_ZS', 'PersonalField19_ZT', 'PersonalField19_ZU', 'PersonalField19_ZV', 'PersonalField19_ZW', 'PropertyField3_N', 'PropertyField3_Y', 'PropertyField4_N', 'PropertyField4_Y', 'PropertyField5_N', 'PropertyField5_Y', 'PropertyField7_A', 'PropertyField7_B', 'PropertyField7_C', 'PropertyField7_D', 'PropertyField7_E', 'PropertyField7_F', 'PropertyField7_G', 'PropertyField7_H', 'PropertyField7_I', 'PropertyField7_J', 'PropertyField7_K', 'PropertyField7_L', 'PropertyField7_M', 'PropertyField7_N', 'PropertyField7_O', 'PropertyField7_P', 'PropertyField7_Q', 'PropertyField7_R', 'PropertyField7_S', 'PropertyField7_T', 'PropertyField14_A', 'PropertyField14_B', 'PropertyField14_C', 'PropertyField14_D', 'PropertyField28_A', 'PropertyField28_B', 'PropertyField28_C', 'PropertyField28_D', 'PropertyField30_N', 'PropertyField30_Y', 'PropertyField31_K', 'PropertyField31_M', 'PropertyField31_N', 'PropertyField31_O', 'PropertyField32_N', 'PropertyField32_Y', 'PropertyField33_E', 'PropertyField33_F', 'PropertyField33_G', 'PropertyField33_H', 'PropertyField34_N', 'PropertyField34_Y', 'PropertyField36_N', 'PropertyField36_Y', 'PropertyField37_ ', 'PropertyField37_N', 'PropertyField37_Y', 'PropertyField38_N', 'PropertyField38_Y', 'GeographicField63_ ', 'GeographicField63_N', 'GeographicField63_Y', 'GeographicField64_CA', 'GeographicField64_IL', 'GeographicField64_NJ', 'GeographicField64_TX', 'GeographicField64']\n"
          ],
          "name": "stdout"
        }
      ]
    },
    {
      "cell_type": "code",
      "metadata": {
        "id": "VM9tLc8h13Pj",
        "outputId": "612dc12b-c36a-46e6-d930-ac16c902fbcf",
        "colab": {
          "base_uri": "https://localhost:8080/"
        }
      },
      "source": [
        "# Seperate Target column from Train Data\n",
        "Xtrain = train_data[TrainCols[0:len(TrainCols)-1]].copy()\n",
        "Ytrain = train_data[['QuoteConversion_Flag']].copy()\n",
        "print(\"Train Set shape:\")\n",
        "print(Xtrain.shape)\n",
        "print(Ytrain.shape)\n",
        "Xtest = test_data.copy()\n",
        "print(\"Test Set shape:\")\n",
        "print(Xtest.shape)"
      ],
      "execution_count": null,
      "outputs": [
        {
          "output_type": "stream",
          "text": [
            "Train Set shape:\n",
            "(65000, 595)\n",
            "(65000, 1)\n",
            "Test Set shape:\n",
            "(173836, 596)\n"
          ],
          "name": "stdout"
        }
      ]
    },
    {
      "cell_type": "code",
      "metadata": {
        "id": "vQ5cfV1nCBG0",
        "outputId": "c6c6ca9d-7751-4e1f-8ddf-2f9932fdf819",
        "colab": {
          "base_uri": "https://localhost:8080/"
        }
      },
      "source": [
        "print(Xtest.columns)"
      ],
      "execution_count": null,
      "outputs": [
        {
          "output_type": "stream",
          "text": [
            "Index(['CoverageField11A', 'CoverageField11B', 'CoverageField1A',\n",
            "       'CoverageField1B', 'CoverageField2A', 'CoverageField2B',\n",
            "       'CoverageField3A', 'CoverageField3B', 'CoverageField4A',\n",
            "       'CoverageField4B',\n",
            "       ...\n",
            "       'PropertyField38_N', 'PropertyField38_Y', 'GeographicField63_ ',\n",
            "       'GeographicField63_N', 'GeographicField63_Y', 'GeographicField64_CA',\n",
            "       'GeographicField64_IL', 'GeographicField64_NJ', 'GeographicField64_TX',\n",
            "       'GeographicField64'],\n",
            "      dtype='object', length=596)\n"
          ],
          "name": "stdout"
        }
      ]
    },
    {
      "cell_type": "code",
      "metadata": {
        "id": "ebaItwnuACub"
      },
      "source": [
        "Xtest.drop([\"GeographicField64\"],axis=1,inplace=True)\n"
      ],
      "execution_count": null,
      "outputs": []
    },
    {
      "cell_type": "code",
      "metadata": {
        "id": "JLA1_hhX6qp-",
        "outputId": "ee6cdff5-5e68-4991-cc99-40010f3396c5",
        "colab": {
          "base_uri": "https://localhost:8080/"
        }
      },
      "source": [
        "sum(pd.isna(Ytrain).sum())"
      ],
      "execution_count": null,
      "outputs": [
        {
          "output_type": "execute_result",
          "data": {
            "text/plain": [
              "0"
            ]
          },
          "metadata": {
            "tags": []
          },
          "execution_count": 20
        }
      ]
    },
    {
      "cell_type": "code",
      "metadata": {
        "id": "Mp_wBv6i8icg",
        "outputId": "bbc6efb2-8741-4865-b23d-ec8e80108e35",
        "colab": {
          "base_uri": "https://localhost:8080/",
          "height": 419
        }
      },
      "source": [
        "Ytrain.replace('', np.NaN)"
      ],
      "execution_count": null,
      "outputs": [
        {
          "output_type": "execute_result",
          "data": {
            "text/html": [
              "<div>\n",
              "<style scoped>\n",
              "    .dataframe tbody tr th:only-of-type {\n",
              "        vertical-align: middle;\n",
              "    }\n",
              "\n",
              "    .dataframe tbody tr th {\n",
              "        vertical-align: top;\n",
              "    }\n",
              "\n",
              "    .dataframe thead th {\n",
              "        text-align: right;\n",
              "    }\n",
              "</style>\n",
              "<table border=\"1\" class=\"dataframe\">\n",
              "  <thead>\n",
              "    <tr style=\"text-align: right;\">\n",
              "      <th></th>\n",
              "      <th>QuoteConversion_Flag</th>\n",
              "    </tr>\n",
              "  </thead>\n",
              "  <tbody>\n",
              "    <tr>\n",
              "      <th>0</th>\n",
              "      <td>0</td>\n",
              "    </tr>\n",
              "    <tr>\n",
              "      <th>1</th>\n",
              "      <td>0</td>\n",
              "    </tr>\n",
              "    <tr>\n",
              "      <th>2</th>\n",
              "      <td>0</td>\n",
              "    </tr>\n",
              "    <tr>\n",
              "      <th>3</th>\n",
              "      <td>0</td>\n",
              "    </tr>\n",
              "    <tr>\n",
              "      <th>4</th>\n",
              "      <td>0</td>\n",
              "    </tr>\n",
              "    <tr>\n",
              "      <th>...</th>\n",
              "      <td>...</td>\n",
              "    </tr>\n",
              "    <tr>\n",
              "      <th>64995</th>\n",
              "      <td>0</td>\n",
              "    </tr>\n",
              "    <tr>\n",
              "      <th>64996</th>\n",
              "      <td>0</td>\n",
              "    </tr>\n",
              "    <tr>\n",
              "      <th>64997</th>\n",
              "      <td>0</td>\n",
              "    </tr>\n",
              "    <tr>\n",
              "      <th>64998</th>\n",
              "      <td>0</td>\n",
              "    </tr>\n",
              "    <tr>\n",
              "      <th>64999</th>\n",
              "      <td>0</td>\n",
              "    </tr>\n",
              "  </tbody>\n",
              "</table>\n",
              "<p>65000 rows × 1 columns</p>\n",
              "</div>"
            ],
            "text/plain": [
              "       QuoteConversion_Flag\n",
              "0                         0\n",
              "1                         0\n",
              "2                         0\n",
              "3                         0\n",
              "4                         0\n",
              "...                     ...\n",
              "64995                     0\n",
              "64996                     0\n",
              "64997                     0\n",
              "64998                     0\n",
              "64999                     0\n",
              "\n",
              "[65000 rows x 1 columns]"
            ]
          },
          "metadata": {
            "tags": []
          },
          "execution_count": 21
        }
      ]
    },
    {
      "cell_type": "markdown",
      "metadata": {
        "id": "92ZNiPXb2hAi"
      },
      "source": [
        "KNN"
      ]
    },
    {
      "cell_type": "code",
      "metadata": {
        "id": "cuhgy0RcseYE"
      },
      "source": [
        "#KNN =============================================================\n",
        "from sklearn.neighbors import KNeighborsClassifier\n",
        "knn = KNeighborsClassifier(n_neighbors = 3)\n",
        "knn.fit(Xtrain, Ytrain)\n",
        "knn_prediction=knn.predict(Xtest)\n",
        "\n"
      ],
      "execution_count": null,
      "outputs": []
    },
    {
      "cell_type": "code",
      "metadata": {
        "id": "IqxniEd1oYJt",
        "outputId": "50c783d1-7c9f-4759-ce0f-563d71b23842",
        "colab": {
          "base_uri": "https://localhost:8080/",
          "height": 221
        }
      },
      "source": [
        "#Testset prediction======================================================================\n",
        "#Get Class Prediction as a data frame with header as Prediction\n",
        "pred=pd.DataFrame(knn.predict(Xtest),columns=[\"Prediction\"])\n",
        "print(knn.predict(Xtest))\n",
        "pred.head()"
      ],
      "execution_count": null,
      "outputs": [
        {
          "output_type": "stream",
          "text": [
            "[0 0 0 ... 0 0 0]\n"
          ],
          "name": "stdout"
        },
        {
          "output_type": "execute_result",
          "data": {
            "text/html": [
              "<div>\n",
              "<style scoped>\n",
              "    .dataframe tbody tr th:only-of-type {\n",
              "        vertical-align: middle;\n",
              "    }\n",
              "\n",
              "    .dataframe tbody tr th {\n",
              "        vertical-align: top;\n",
              "    }\n",
              "\n",
              "    .dataframe thead th {\n",
              "        text-align: right;\n",
              "    }\n",
              "</style>\n",
              "<table border=\"1\" class=\"dataframe\">\n",
              "  <thead>\n",
              "    <tr style=\"text-align: right;\">\n",
              "      <th></th>\n",
              "      <th>Prediction</th>\n",
              "    </tr>\n",
              "  </thead>\n",
              "  <tbody>\n",
              "    <tr>\n",
              "      <th>0</th>\n",
              "      <td>0</td>\n",
              "    </tr>\n",
              "    <tr>\n",
              "      <th>1</th>\n",
              "      <td>0</td>\n",
              "    </tr>\n",
              "    <tr>\n",
              "      <th>2</th>\n",
              "      <td>0</td>\n",
              "    </tr>\n",
              "    <tr>\n",
              "      <th>3</th>\n",
              "      <td>0</td>\n",
              "    </tr>\n",
              "    <tr>\n",
              "      <th>4</th>\n",
              "      <td>0</td>\n",
              "    </tr>\n",
              "  </tbody>\n",
              "</table>\n",
              "</div>"
            ],
            "text/plain": [
              "   Prediction\n",
              "0           0\n",
              "1           0\n",
              "2           0\n",
              "3           0\n",
              "4           0"
            ]
          },
          "metadata": {
            "tags": []
          },
          "execution_count": 23
        }
      ]
    },
    {
      "cell_type": "code",
      "metadata": {
        "id": "l8cR8-piXttm"
      },
      "source": [
        "pred.to_csv('/gdrive/My Drive/Data Mining/Assignment 3/KNNOnlyResults3.csv')"
      ],
      "execution_count": null,
      "outputs": []
    }
  ]
}